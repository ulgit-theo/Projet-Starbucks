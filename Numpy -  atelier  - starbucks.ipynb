{
 "cells": [
  {
   "cell_type": "markdown",
   "id": "e608f6a1",
   "metadata": {},
   "source": [
    "<h1> Import des données </h1>"
   ]
  },
  {
   "cell_type": "code",
   "execution_count": 1,
   "id": "fd6b2226",
   "metadata": {},
   "outputs": [
    {
     "data": {
      "text/plain": [
       "array([[nan, nan, nan, ..., nan, nan, nan],\n",
       "       [nan, 45.,  0., ...,  0.,  0., 10.],\n",
       "       [nan, nan, nan, ..., nan, nan, nan],\n",
       "       ...,\n",
       "       [nan, nan, nan, ..., nan, nan, nan],\n",
       "       [nan, nan, nan, ..., nan, nan, nan],\n",
       "       [nan, nan, nan, ..., nan, nan, nan]])"
      ]
     },
     "execution_count": 1,
     "metadata": {},
     "output_type": "execute_result"
    }
   ],
   "source": [
    "import numpy as np \n",
    "\n",
    "donnees = np.genfromtxt('starbucks-menu-nutrition-drinks.csv', delimiter=',')\n",
    "donnees"
   ]
  },
  {
   "cell_type": "code",
   "execution_count": 3,
   "id": "08fa47dd",
   "metadata": {},
   "outputs": [
    {
     "data": {
      "text/plain": [
       "array([['Drink', 'Calories', 'Fat (g)', ..., 'Fiber (g)', 'Protein',\n",
       "        'Sodium'],\n",
       "       ['Cool Lime Starbucks Refreshers Beverage', '45', '0', ..., '0',\n",
       "        '0', '10'],\n",
       "       ['OmbrÃ© Pink Drink', '-', '-', ..., '-', '-', '-'],\n",
       "       ...,\n",
       "       ['Ginger Ale', '-', '-', ..., '-', '-', '-'],\n",
       "       ['Lemon Ale', '-', '-', ..., '-', '-', '-'],\n",
       "       ['Orange Cream Soda', '-', '-', ..., '-', '-', '-']], dtype='<U62')"
      ]
     },
     "execution_count": 3,
     "metadata": {},
     "output_type": "execute_result"
    }
   ],
   "source": [
    "donnees = np.genfromtxt('starbucks-menu-nutrition-drinks.csv', delimiter=',', dtype=None)\n",
    "donnees"
   ]
  },
  {
   "cell_type": "code",
   "execution_count": 4,
   "id": "c556f6a4",
   "metadata": {},
   "outputs": [
    {
     "data": {
      "text/plain": [
       "array([['Drink', 'Calories', 'Fat (g)', ..., 'Fiber (g)', 'Protein',\n",
       "        'Sodium'],\n",
       "       ['Cool Lime Starbucks Refreshers Beverage', '45', '0', ..., '0',\n",
       "        '0', '10'],\n",
       "       ['Ombré Pink Drink', '-', '-', ..., '-', '-', '-'],\n",
       "       ...,\n",
       "       ['Ginger Ale', '-', '-', ..., '-', '-', '-'],\n",
       "       ['Lemon Ale', '-', '-', ..., '-', '-', '-'],\n",
       "       ['Orange Cream Soda', '-', '-', ..., '-', '-', '-']], dtype='<U62')"
      ]
     },
     "execution_count": 4,
     "metadata": {},
     "output_type": "execute_result"
    }
   ],
   "source": [
    "donnees = np.genfromtxt('starbucks-menu-nutrition-drinks.csv', delimiter=',', dtype=None, encoding='utf-8-sig')\n",
    "donnees"
   ]
  },
  {
   "cell_type": "markdown",
   "id": "538a8c41",
   "metadata": {},
   "source": [
    "<h1> Cleaning des données </h1>\n",
    "\n",
    "<b> Séparation des valeurs textuelles et des valeurs numériques"
   ]
  },
  {
   "cell_type": "code",
   "execution_count": 7,
   "id": "06a35e8d",
   "metadata": {},
   "outputs": [
    {
     "data": {
      "text/plain": [
       "array([['Drink', 'Calories', 'Fat (g)', ..., 'Fiber (g)', 'Protein',\n",
       "        'Sodium'],\n",
       "       ['Cool Lime Starbucks Refreshers Beverage', '45', '0', ..., '0',\n",
       "        '0', '10'],\n",
       "       ['Ombré Pink Drink', 'nan', 'nan', ..., 'nan', 'nan', 'nan'],\n",
       "       ...,\n",
       "       ['Ginger Ale', 'nan', 'nan', ..., 'nan', 'nan', 'nan'],\n",
       "       ['Lemon Ale', 'nan', 'nan', ..., 'nan', 'nan', 'nan'],\n",
       "       ['Orange Cream Soda', 'nan', 'nan', ..., 'nan', 'nan', 'nan']],\n",
       "      dtype='<U62')"
      ]
     },
     "execution_count": 7,
     "metadata": {},
     "output_type": "execute_result"
    }
   ],
   "source": [
    "donnees[donnees == '-'] = np.nan\n",
    "donnees"
   ]
  },
  {
   "cell_type": "code",
   "execution_count": 20,
   "id": "1cc1f1d4",
   "metadata": {},
   "outputs": [
    {
     "name": "stdout",
     "output_type": "stream",
     "text": [
      "[[45.  0. 11.  0.  0. 10.]\n",
      " [nan nan nan nan nan nan]\n",
      " [nan nan nan nan nan nan]\n",
      " ...\n",
      " [nan nan nan nan nan nan]\n",
      " [nan nan nan nan nan nan]\n",
      " [nan nan nan nan nan nan]]\n"
     ]
    }
   ],
   "source": [
    "drinks = donnees[1:,0]\n",
    "#print(drinks)\n",
    "\n",
    "header = donnees[0,:]\n",
    "#print(header)\n",
    "\n",
    "\n",
    "data = donnees[1:,1:]\n",
    "\n",
    "data = data.astype(float)\n",
    "print(data)"
   ]
  },
  {
   "cell_type": "markdown",
   "id": "21b46339",
   "metadata": {},
   "source": [
    "<b> Supppression des lignes sans valeur numérique </b>"
   ]
  },
  {
   "cell_type": "code",
   "execution_count": 12,
   "id": "be8e4962",
   "metadata": {},
   "outputs": [
    {
     "data": {
      "text/plain": [
       "array([[False, False, False, False, False, False],\n",
       "       [ True,  True,  True,  True,  True,  True],\n",
       "       [ True,  True,  True,  True,  True,  True],\n",
       "       ...,\n",
       "       [ True,  True,  True,  True,  True,  True],\n",
       "       [ True,  True,  True,  True,  True,  True],\n",
       "       [ True,  True,  True,  True,  True,  True]])"
      ]
     },
     "execution_count": 12,
     "metadata": {},
     "output_type": "execute_result"
    }
   ],
   "source": [
    "np.isnan(data)"
   ]
  },
  {
   "cell_type": "code",
   "execution_count": 18,
   "id": "21821bef",
   "metadata": {},
   "outputs": [
    {
     "name": "stdout",
     "output_type": "stream",
     "text": [
      "48% des boissons n'ont pas de valeur\n"
     ]
    }
   ],
   "source": [
    "# Identifier les lignes où toutes les valeurs numériques sont np.nan\n",
    "lignes_sans_donnes = np.isnan(data).all(axis=1)\n",
    "\n",
    "pourcentage_lignes_vides = sum(lignes_sans_donnes)/data.shape[0]\n",
    "print(f'{int(pourcentage_lignes_vides*100)}% des boissons n\\'ont pas de valeur' )"
   ]
  },
  {
   "cell_type": "code",
   "execution_count": 21,
   "id": "e15d3ab5",
   "metadata": {
    "scrolled": true
   },
   "outputs": [
    {
     "name": "stdout",
     "output_type": "stream",
     "text": [
      "(92,)\n",
      "(92, 6)\n",
      "[[ 45.    0.   11.    0.    0.   10. ]\n",
      " [ 80.    0.   18.    1.    0.   10. ]\n",
      " [ 60.    0.   14.    1.    0.   10. ]\n",
      " [110.    0.   28.    0.    0.    5. ]\n",
      " [  0.    0.    0.    0.    0.    0. ]\n",
      " [130.    2.5  21.    0.    5.   65. ]\n",
      " [140.    2.5  23.    0.    5.   90. ]\n",
      " [130.    2.5  21.    0.    5.   65. ]\n",
      " [ 80.    0.   19.    0.    0.   10. ]\n",
      " [ 60.    0.   15.    0.    0.   10. ]\n",
      " [150.    0.   38.    0.    0.   15. ]\n",
      " [140.    0.   35.    0.    0.   10. ]\n",
      " [140.    0.   35.    0.    0.   15. ]\n",
      " [150.    0.   37.    0.    0.   15. ]\n",
      " [ 70.    0.   17.    0.    0.   10. ]\n",
      " [120.    0.   31.    0.    0.   10. ]\n",
      " [140.    0.   35.    0.    0.   10. ]\n",
      " [ 60.    0.   15.    0.    0.   10. ]\n",
      " [120.    0.   31.    0.    0.   10. ]\n",
      " [140.    0.   35.    0.    0.   10. ]\n",
      " [150.    0.   38.    0.    0.   15. ]\n",
      " [140.    0.   35.    0.    0.   10. ]\n",
      " [ 30.    0.    8.    0.    0.    5. ]\n",
      " [ 70.    0.   17.    0.    0.    0. ]\n",
      " [ 30.    0.    8.    0.    0.    5. ]\n",
      " [ 70.    0.   17.    0.    0.    5. ]\n",
      " [ 30.    0.    8.    0.    0.    5. ]\n",
      " [ 90.    0.   24.    0.    0.    0. ]\n",
      " [ 60.    0.   15.    0.    0.    0. ]\n",
      " [130.    2.5  21.    0.    5.   65. ]\n",
      " [140.    2.5  23.    0.    5.   90. ]\n",
      " [130.    2.5  21.    0.    5.   65. ]\n",
      " [ 90.    0.   27.    0.    0.    0. ]\n",
      " [ 90.    0.   27.    0.    0.    0. ]\n",
      " [210.    2.5  33.    2.   20.  115. ]\n",
      " [200.    2.5  34.    2.   20.  120. ]\n",
      " [ 60.    0.   13.    0.    1.    0. ]\n",
      " [ 50.    0.   11.    0.    1.    0. ]\n",
      " [ 10.    0.    2.    0.    1.    0. ]\n",
      " [ 60.    0.   15.    0.    0.   10. ]\n",
      " [150.    0.   38.    0.    0.   15. ]\n",
      " [140.    0.   35.    0.    0.   10. ]\n",
      " [140.    0.   35.    0.    0.   15. ]\n",
      " [150.    0.   37.    0.    0.   15. ]\n",
      " [ 70.    0.   17.    0.    0.   10. ]\n",
      " [120.    0.   31.    0.    0.   10. ]\n",
      " [140.    0.   35.    0.    0.   10. ]\n",
      " [ 60.    0.   15.    0.    0.   10. ]\n",
      " [120.    0.   31.    0.    0.   10. ]\n",
      " [140.    0.   35.    0.    0.   10. ]\n",
      " [150.    0.   38.    0.    0.   15. ]\n",
      " [140.    0.   35.    0.    0.   10. ]\n",
      " [  5.    0.    0.    0.    1.   10. ]\n",
      " [ 10.    0.    0.    0.    1.   10. ]\n",
      " [  5.    0.    0.    0.    1.   10. ]\n",
      " [  5.    0.    0.    0.    1.   10. ]\n",
      " [  5.    0.    0.    0.    0.    5. ]\n",
      " [  5.    0.    0.    0.    0.   15. ]\n",
      " [  0.    0.    0.    0.    0.    0. ]\n",
      " [  5.    0.    0.    0.    0.   10. ]\n",
      " [ 70.    5.    5.    0.    1.   20. ]\n",
      " [  5.    0.    0.    0.    1.   10. ]\n",
      " [110.    6.   14.    0.    1.   25. ]\n",
      " [320.    9.   47.    4.   14.  160. ]\n",
      " [430.   26.   45.    5.   12.  115. ]\n",
      " [190.    7.   19.    0.   13.  170. ]\n",
      " [290.    8.   42.    4.   13.  140. ]\n",
      " [120.    4.   12.    0.    8.  100. ]\n",
      " [250.    7.   35.    0.   10.  150. ]\n",
      " [260.    6.   40.    0.   11.  150. ]\n",
      " [250.    9.   32.    0.   12.  180. ]\n",
      " [180.    7.   18.    0.   12.  160. ]\n",
      " [130.    4.5  13.    0.    8.  115. ]\n",
      " [230.    6.   36.    4.    9.   90. ]\n",
      " [250.    7.   37.    0.   10.  150. ]\n",
      " [200.    4.   34.    0.    7.   95. ]\n",
      " [260.    9.   34.    0.   11.  180. ]\n",
      " [190.    4.   30.    0.    7.  100. ]\n",
      " [300.    8.   47.    0.   10.  190. ]\n",
      " [190.    7.   19.    0.   12.  160. ]\n",
      " [190.    7.   19.    0.   12.  160. ]\n",
      " [ 45.    1.    5.    0.    3.   40. ]\n",
      " [250.    6.   37.    0.   12.  150. ]\n",
      " [360.   11.   53.    0.   14.  240. ]\n",
      " [350.    4.5  64.    0.   15.    0. ]\n",
      " [110.    0.   24.    0.    3.  200. ]\n",
      " [280.    2.5  60.    2.    4.  220. ]\n",
      " [140.    0.5  28.    1.    4.  180. ]\n",
      " [200.    6.   28.    0.   10.  135. ]\n",
      " [200.    6.   28.    0.   10.  135. ]\n",
      " [320.    5.   53.    8.   20.  170. ]\n",
      " [300.    2.   60.    7.   16.  130. ]]\n"
     ]
    }
   ],
   "source": [
    "#filtrer sur les valeurs\n",
    "lignes_avec_valeurs = ~np.isnan(data).all(axis=1)\n",
    "\n",
    "drinks = drinks[lignes_avec_valeurs]\n",
    "print(drinks.shape)\n",
    "\n",
    "data = data[lignes_avec_valeurs]\n",
    "print(data.shape)\n",
    "print(data)"
   ]
  },
  {
   "cell_type": "markdown",
   "id": "06cce98a",
   "metadata": {},
   "source": [
    "<h1> Analyse des données </h1>"
   ]
  },
  {
   "cell_type": "code",
   "execution_count": 24,
   "id": "f6040f2f",
   "metadata": {},
   "outputs": [
    {
     "name": "stdout",
     "output_type": "stream",
     "text": [
      "Moyenne des calories : 135.16304347826087\n",
      "Médiane des protéines : 1.0\n",
      "Min de lipide (g) : 0.0\n",
      "Max de lipide (g) : 26.0\n"
     ]
    }
   ],
   "source": [
    "moyenne_calories = np.mean(data[:, 0])  # Calories\n",
    "median_proteines = np.median(data[:, 4])  # Protéines\n",
    "min_fat = np.min(data[:, 1])  # Fat (g)\n",
    "max_fat = np.max(data[:, 1])  # Fat (g)\n",
    "\n",
    "print(f\"Moyenne des calories : {moyenne_calories}\")\n",
    "print(f\"Médiane des protéines : {median_proteines}\")\n",
    "print(f\"Min de lipide (g) : {min_fat}\")\n",
    "print(f\"Max de lipide (g) : {max_fat}\")"
   ]
  },
  {
   "cell_type": "code",
   "execution_count": 25,
   "id": "ea081cd2",
   "metadata": {},
   "outputs": [
    {
     "name": "stdout",
     "output_type": "stream",
     "text": [
      "Boisson avec le plus de calories : Starbucks Signature Hot Chocolate (430.0 calories)\n",
      "Boisson avec le moins de calories : Iced Coffee (0.0 calories)\n"
     ]
    }
   ],
   "source": [
    "# Boisson avec le plus haut et le plus bas nombre de calories\n",
    "index_max_calories = np.argmax(data[:, 0])\n",
    "index_min_calories = np.argmin(data[:, 0])\n",
    "boisson_max_calories = drinks[index_max_calories]\n",
    "boisson_min_calories = drinks[index_min_calories]\n",
    "\n",
    "print(f\"Boisson avec le plus de calories : {boisson_max_calories} ({data[index_max_calories,0]} calories)\")\n",
    "print(f\"Boisson avec le moins de calories : {boisson_min_calories} ({data[index_min_calories,0]} calories)\")"
   ]
  },
  {
   "cell_type": "code",
   "execution_count": null,
   "id": "0c1e4b2b",
   "metadata": {},
   "outputs": [],
   "source": []
  },
  {
   "cell_type": "markdown",
   "id": "a72a6b0e",
   "metadata": {},
   "source": [
    "<h1> création d'une nouvelle colonne indiquant le niveau de calorie </h1>"
   ]
  },
  {
   "cell_type": "code",
   "execution_count": 34,
   "id": "30d52236",
   "metadata": {},
   "outputs": [
    {
     "data": {
      "text/plain": [
       "array([ 45.,  80.,  60., 110.,   0., 130., 140., 130.,  80.,  60., 150.,\n",
       "       140., 140., 150.,  70., 120., 140.,  60., 120., 140., 150., 140.,\n",
       "        30.,  70.,  30.,  70.,  30.,  90.,  60., 130., 140., 130.,  90.,\n",
       "        90., 210., 200.,  60.,  50.,  10.,  60., 150., 140., 140., 150.,\n",
       "        70., 120., 140.,  60., 120., 140., 150., 140.,   5.,  10.,   5.,\n",
       "         5.,   5.,   5.,   0.,   5.,  70.,   5., 110., 320., 430., 190.,\n",
       "       290., 120., 250., 260., 250., 180., 130., 230., 250., 200., 260.,\n",
       "       190., 300., 190., 190.,  45., 250., 360., 350., 110., 280., 140.,\n",
       "       200., 200., 320., 300.])"
      ]
     },
     "execution_count": 34,
     "metadata": {},
     "output_type": "execute_result"
    }
   ],
   "source": [
    "#Isoler la colonne des calories\n",
    "calories = data[:, 0].astype(float)\n",
    "calories"
   ]
  },
  {
   "cell_type": "code",
   "execution_count": 35,
   "id": "34f7d04c",
   "metadata": {},
   "outputs": [
    {
     "data": {
      "text/plain": [
       "array([0, 0, 0, 0, 0, 0, 0, 0, 0, 0, 0, 0, 0, 0, 0, 0, 0, 0, 0, 0, 0, 0,\n",
       "       0, 0, 0, 0, 0, 0, 0, 0, 0, 0, 0, 0, 0, 0, 0, 0, 0, 0, 0, 0, 0, 0,\n",
       "       0, 0, 0, 0, 0, 0, 0, 0, 0, 0, 0, 0, 0, 0, 0, 0, 0, 0, 0, 0, 0, 0,\n",
       "       0, 0, 0, 0, 0, 0, 0, 0, 0, 0, 0, 0, 0, 0, 0, 0, 0, 0, 0, 0, 0, 0,\n",
       "       0, 0, 0, 0])"
      ]
     },
     "execution_count": 35,
     "metadata": {},
     "output_type": "execute_result"
    }
   ],
   "source": [
    "# Créer une liste à zero de la bonne longeur\n",
    "niveaux_calories = np.zeros(calories.shape, dtype=int)\n",
    "niveaux_calories"
   ]
  },
  {
   "cell_type": "code",
   "execution_count": 36,
   "id": "7b9bf5ef",
   "metadata": {},
   "outputs": [
    {
     "data": {
      "text/plain": [
       "array([1, 1, 1, 2, 1, 2, 2, 2, 1, 1, 2, 2, 2, 2, 1, 2, 2, 1, 2, 2, 2, 2,\n",
       "       1, 1, 1, 1, 1, 1, 1, 2, 2, 2, 1, 1, 3, 2, 1, 1, 1, 1, 2, 2, 2, 2,\n",
       "       1, 2, 2, 1, 2, 2, 2, 2, 1, 1, 1, 1, 1, 1, 1, 1, 1, 1, 2, 4, 4, 2,\n",
       "       3, 2, 3, 3, 3, 2, 2, 3, 3, 2, 3, 2, 3, 2, 2, 1, 3, 4, 4, 2, 3, 2,\n",
       "       2, 2, 4, 3])"
      ]
     },
     "execution_count": 36,
     "metadata": {},
     "output_type": "execute_result"
    }
   ],
   "source": [
    "# création des catégories\n",
    "niveaux_calories[(calories >= 0) & (calories <= 100)] = 1\n",
    "niveaux_calories[(calories > 100) & (calories <= 200)] = 2\n",
    "niveaux_calories[(calories > 200) & (calories <= 300)] = 3\n",
    "niveaux_calories[calories > 300] = 4\n",
    "niveaux_calories"
   ]
  },
  {
   "cell_type": "code",
   "execution_count": 37,
   "id": "32d9dbd0",
   "metadata": {},
   "outputs": [
    {
     "data": {
      "text/plain": [
       "array([ True,  True,  True, False,  True, False, False, False,  True,\n",
       "        True, False, False, False, False,  True, False, False,  True,\n",
       "       False, False, False, False,  True,  True,  True,  True,  True,\n",
       "        True,  True, False, False, False,  True,  True, False, False,\n",
       "        True,  True,  True,  True, False, False, False, False,  True,\n",
       "       False, False,  True, False, False, False, False,  True,  True,\n",
       "        True,  True,  True,  True,  True,  True,  True,  True, False,\n",
       "       False, False, False, False, False, False, False, False, False,\n",
       "       False, False, False, False, False, False, False, False, False,\n",
       "        True, False, False, False, False, False, False, False, False,\n",
       "       False, False])"
      ]
     },
     "execution_count": 37,
     "metadata": {},
     "output_type": "execute_result"
    }
   ],
   "source": [
    "#Isoler les boissons peu caloriques\n",
    "niveaux_calories <=1"
   ]
  },
  {
   "cell_type": "code",
   "execution_count": 38,
   "id": "36918617",
   "metadata": {},
   "outputs": [
    {
     "data": {
      "text/plain": [
       "array(['Cool Lime Starbucks Refreshers Beverage',\n",
       "       'Strawberry Acai Starbucks Refreshers Beverage',\n",
       "       'Very Berry Hibiscus Starbucks Refreshers Beverage', 'Iced Coffee',\n",
       "       'Shaken Sweet Tea', 'Tazo Bottled Berry Blossom White',\n",
       "       'Tazo Bottled Iced Passion', 'Tazo Bottled Organic Iced Black Tea',\n",
       "       'Teavana Shaken Iced Black Tea',\n",
       "       'Teavana Shaken Iced Black Tea Lemonade',\n",
       "       'Teavana Shaken Iced Green Tea',\n",
       "       'Teavana Shaken Iced Green Tea Lemonade',\n",
       "       'Teavana Shaken Iced Passion Tango Tea',\n",
       "       'Teavana Shaken Iced Passion Tango Tea Lemonade',\n",
       "       'Teavana Shaken Iced Peach Green Tea',\n",
       "       'Starbucks Refreshers Raspberry Pomegranate',\n",
       "       'Starbucks Refreshers Strawberry Lemonade',\n",
       "       'Starbucks Iced Coffee Caramel',\n",
       "       'Starbucks Iced Coffee Light Sweetened',\n",
       "       'Starbucks Iced Coffee Unsweetened',\n",
       "       'Tazo Bottled Berry Blossom White', 'Tazo Bottled Iced Passion',\n",
       "       'Tazo Bottled Organic Iced Black Tea', 'Blonde Roast',\n",
       "       'Clover Brewed Coffee', 'Decaf Pike Place Roast',\n",
       "       'Featured Dark Roast', 'Iced Coffee', 'Nariño 70 Cold Brew',\n",
       "       'Nariño 70 Cold Brew with Milk', 'Nitro Cold Brew',\n",
       "       'Nitro Cold Brew with Sweet Cream', 'Pike Place Roast',\n",
       "       'Starbucks Doubleshot on Ice Beverage'], dtype='<U62')"
      ]
     },
     "execution_count": 38,
     "metadata": {},
     "output_type": "execute_result"
    }
   ],
   "source": [
    "drinks[niveaux_calories <=1]"
   ]
  },
  {
   "cell_type": "code",
   "execution_count": 39,
   "id": "32150c17",
   "metadata": {},
   "outputs": [
    {
     "data": {
      "text/plain": [
       "np.float64(10.333333333333334)"
      ]
     },
     "execution_count": 39,
     "metadata": {},
     "output_type": "execute_result"
    }
   ],
   "source": [
    "#Moyenne des boissons les moins caloriques\n",
    "np.mean(data[niveaux_calories <=1,:])"
   ]
  }
 ],
 "metadata": {
  "kernelspec": {
   "display_name": "Python [conda env:base] *",
   "language": "python",
   "name": "conda-base-py"
  },
  "language_info": {
   "codemirror_mode": {
    "name": "ipython",
    "version": 3
   },
   "file_extension": ".py",
   "mimetype": "text/x-python",
   "name": "python",
   "nbconvert_exporter": "python",
   "pygments_lexer": "ipython3",
   "version": "3.12.7"
  }
 },
 "nbformat": 4,
 "nbformat_minor": 5
}
